{
 "cells": [
  {
   "cell_type": "markdown",
   "metadata": {},
   "source": [
    "## Segmenting and Clustering Neighborhoods in Toronto - 2nd Part"
   ]
  },
  {
   "cell_type": "markdown",
   "metadata": {},
   "source": [
    "This is the notebook that contains the code for the seconde part of the week 3 assignment of the course Applied Data Science Capstone. \n",
    "\n",
    "In order to parse the HTML page, I decided to use __*BeautifulSoup*__"
   ]
  },
  {
   "cell_type": "code",
   "execution_count": 3,
   "metadata": {},
   "outputs": [],
   "source": [
    "#!conda install -c anaconda beautifulsoup4 --yes \n",
    "\n",
    "import pandas as pd\n",
    "import numpy as np\n",
    "import requests\n",
    "from bs4 import BeautifulSoup"
   ]
  },
  {
   "cell_type": "code",
   "execution_count": null,
   "metadata": {},
   "outputs": [],
   "source": []
  },
  {
   "cell_type": "code",
   "execution_count": null,
   "metadata": {},
   "outputs": [],
   "source": [
    "url = 'https://en.wikipedia.org/wiki/List_of_postal_codes_of_Canada:_M'\n",
    "page = requests.get(url)\n",
    "# Read the URL page at Wikipedia\n",
    "data = BeautifulSoup(page.text, \"html.parser\")\n",
    "\n",
    "# Get the HTML table inside the HTML data read\n",
    "table = data.find('table')\n",
    "\n",
    "# Get all the rows of the HTML table\n",
    "table_rows = table.find_all('tr')\n",
    "\n",
    "# Get the header TH\n",
    "header = table_rows[0].find_all('th')\n",
    "\n",
    "# Get the column values (TD) of the header TH, which will be the column labels of the dataframe\n",
    "labels = [table_rows[0].text for table_rows[0] in header]\n",
    "# Clean the '\\n' special character\n",
    "labels = np.char.replace(labels, '\\n', '')\n",
    "\n",
    "# Create the dataframe\n",
    "# The dataframe will consist of three columns: PostalCode, Borough, and Neighborhood\n",
    "df = pd.DataFrame(columns = labels)\n",
    "\n",
    "# Get all the other columns (TD) from the rows (TR)\n",
    "for tr in table_rows:\n",
    "    td = tr.find_all('td')\n",
    "    row = [tr.text for tr in td]\n",
    "    # Ignore the first row (header) and the rows which have \"Not assigned\" boroughs\n",
    "    # Only process the cells that have an assigned borough. Ignore cells with a borough that is Not assigned\n",
    "    if (row != [] and row[1] != \"Not assigned\\n\"):\n",
    "        row = pd.Series(row,labels)\n",
    "        df = df.append([row],ignore_index=True)     \n",
    "\n",
    "# Clean the data removing '\\n'        \n",
    "df.replace('\\n','', regex=True, inplace=True)   \n",
    "\n",
    "# If a cell has a borough but a Not assigned neighborhood, then the neighborhood will be the same as the borough\n",
    "arr = np.where(pd.isnull(df['Neighborhood']))\n",
    "print(arr)\n",
    "# there are no 'not assigned' neighborhoods in the dataframe\n",
    "\n"
   ]
  },
  {
   "cell_type": "code",
   "execution_count": null,
   "metadata": {},
   "outputs": [],
   "source": [
    "# Read the geospatial data csv\n",
    "geospatial = pd.read_csv(\"http://cocl.us/Geospatial_data\") \n",
    "geospatial.head()"
   ]
  },
  {
   "cell_type": "code",
   "execution_count": null,
   "metadata": {},
   "outputs": [],
   "source": [
    "# Change the dataframes indexes, in order to make it possible to merge them later\n",
    "df.set_index('Postal Code', inplace=True)\n",
    "geospatial.set_index('Postal Code', inplace=True)"
   ]
  },
  {
   "cell_type": "code",
   "execution_count": null,
   "metadata": {},
   "outputs": [],
   "source": [
    "# Merge both dataframes\n",
    "mergedDf = df.merge(geospatial, left_index=True, right_index=True)\n",
    "mergedDf"
   ]
  },
  {
   "cell_type": "code",
   "execution_count": null,
   "metadata": {},
   "outputs": [],
   "source": [
    "# Transform Postal Code into a column again\n",
    "mergedDf['CEP'] = mergedDf.index\n",
    "mergedDf.reset_index(inplace=True)\n",
    "del mergedDf['Postal Code']\n",
    "mergedDf.rename(columns={'CEP':'Postal Code'}, inplace=True)\n",
    "\n",
    "mergedDf.head()"
   ]
  },
  {
   "cell_type": "code",
   "execution_count": null,
   "metadata": {},
   "outputs": [],
   "source": [
    "# Define Postal Code as the first column\n",
    "cols = mergedDf.columns.tolist()\n",
    "cols = cols[-1:] + cols[:-1]\n",
    "mergedDf = mergedDf[cols]\n",
    "mergedDf.head()"
   ]
  },
  {
   "cell_type": "code",
   "execution_count": null,
   "metadata": {},
   "outputs": [],
   "source": [
    "mergedDf\n"
   ]
  }
 ],
 "metadata": {
  "kernelspec": {
   "display_name": "Python",
   "language": "python",
   "name": "conda-env-python-py"
  },
  "language_info": {
   "codemirror_mode": {
    "name": "ipython",
    "version": 3
   },
   "file_extension": ".py",
   "mimetype": "text/x-python",
   "name": "python",
   "nbconvert_exporter": "python",
   "pygments_lexer": "ipython3",
   "version": "3.6.10"
  }
 },
 "nbformat": 4,
 "nbformat_minor": 4
}
